{
 "cells": [
  {
   "cell_type": "markdown",
   "metadata": {},
   "source": [
    "# Load libraries & helper functions"
   ]
  },
  {
   "cell_type": "code",
   "execution_count": 1,
   "metadata": {
    "collapsed": false
   },
   "outputs": [],
   "source": [
    "from helpers import *\n",
    "%matplotlib inline"
   ]
  },
  {
   "cell_type": "markdown",
   "metadata": {},
   "source": [
    "# Declare parameters"
   ]
  },
  {
   "cell_type": "code",
   "execution_count": 2,
   "metadata": {
    "collapsed": false
   },
   "outputs": [
    {
     "name": "stdout",
     "output_type": "stream",
     "text": [
      "['CC0003', 'CC0005', 'CC0006', 'CC0007', 'CC0008', 'CC0010', 'CC0011', 'CC0012', 'CC0014', 'CC0024', 'CC0025', 'CC0027', 'CC0029', 'CC0033', 'CC0041', 'CC0046', 'CC0049', 'CC0056', 'CC0058', 'CC0059', 'CC0060', 'CC0061', 'CC0063', 'CC0064', 'CC0065', 'CC0068', 'CC0069', 'CC0070', 'CC0071', 'CC0074', 'CC0076', 'CC0077', 'CC0078', 'CC0079', 'CC0080', 'CC0081', 'CC0082', 'CC0085', 'CC0087', 'CC0088', 'CC0089', 'CC0091', 'CC0092', 'CC0096', 'CC0100', 'CC0101', 'CC0104', 'CC0105', 'CC0106', 'CC0108', 'CC0110', 'CC0111', 'CC0112', 'CC0114', 'CC0115', 'CC0116', 'CC0117', 'CC0118', 'CC0124', 'CC0126']\n"
     ]
    }
   ],
   "source": [
    "config.DATADIR                 = '/home/duboisjx/mnt10/LabUsers/duboisjx/data/Conte/MRI'\n",
    "config.pipelineName            = 'preGLM0'\n",
    "# fMRI runs\n",
    "fmriRuns                       = ['movie_1','movie_2']#,'LOI1_1','LOI2_1','socnsLOI1_1','socnsLOI2_1']\n",
    "# use volume or surface data\n",
    "config.useNative               = True\n",
    "config.fmriFileTemplate        = '#fMRIrun#.nii.gz'\n",
    "config.melodicFolder           = op.join('#fMRIrun#_hp2000.ica','filtered_func_data.ica') #the code #fMRIrun# will be replaced\n",
    "config.movementRelativeRMSFile = 'Movement_RelativeRMS.txt'\n",
    "config.movementRegressorsFile  = 'Movement_Regressors_dt.txt'\n",
    "\n",
    "tmp = config.fmriFileTemplate.split('.')\n",
    "if tmp[1]=='nii':\n",
    "    config.isCifti = False\n",
    "    config.parcellationName        = 'shen2013'\n",
    "    config.parcellationFile        = '/home/duboisjx/mnt10/LabUsers/duboisjx/data/parcellations/shenetal_neuroimage2013_new/shen_2.5mm_268_parcellation.nii.gz'\n",
    "    config.nParcels                = 268\n",
    "elif tmp[1]=='dtseries':\n",
    "    config.isCifti = True\n",
    "    config.parcellationName        = 'Glasser'\n",
    "    config.parcellationFile        = '/home/duboisjx/mnt10/LabUsers/duboisjx/data/parcellations/Glasser2016/Parcels.dlabel.nii'\n",
    "    config.nParcels                = 360\n",
    "else:\n",
    "    print 'unknown file extension'\n",
    "\n",
    "config.preWhitening            = False\n",
    "config.maskParcelswithAll      = True\n",
    "config.maskParcelswithGM       = False\n",
    "if config.maskParcelswithGM:\n",
    "    config.parcellationName    = config.parcellationName + '_GM'\n",
    "\n",
    "# submit jobs with sge\n",
    "config.queue        = False\n",
    "launchSubproc       = True\n",
    "parallelEnvironment = 'smp' #'openmp'\n",
    "    \n",
    "subjects  = [s for s in sorted(os.listdir(config.DATADIR)) if len(s)==6 and s[0:2]=='CC']\n",
    "print subjects"
   ]
  },
  {
   "cell_type": "markdown",
   "metadata": {},
   "source": [
    "# Do work"
   ]
  },
  {
   "cell_type": "code",
   "execution_count": 5,
   "metadata": {
    "collapsed": false,
    "scrolled": false
   },
   "outputs": [
    {
     "name": "stdout",
     "output_type": "stream",
     "text": [
      "submitted sCC0003_movie_1_preGLM0_ciftiFalse_20180508092629902\n",
      "submitted sCC0003_movie_2_preGLM0_ciftiFalse_20180508092629947\n",
      "submitted sCC0006_movie_1_preGLM0_ciftiFalse_20180508092630009\n",
      "submitted sCC0006_movie_2_preGLM0_ciftiFalse_20180508092630078\n",
      "submitted sCC0007_movie_1_preGLM0_ciftiFalse_20180508092630154\n",
      "submitted sCC0007_movie_2_preGLM0_ciftiFalse_20180508092630232\n",
      "submitted sCC0008_movie_1_preGLM0_ciftiFalse_20180508092630341\n",
      "submitted sCC0008_movie_2_preGLM0_ciftiFalse_20180508092630477\n",
      "Waiting for 8 jobs to complete...\n",
      "All done!!\n",
      "submitted sCC0012_movie_1_preGLM0_ciftiFalse_20180508092640611\n",
      "submitted sCC0012_movie_2_preGLM0_ciftiFalse_20180508092640689\n",
      "submitted sCC0027_movie_1_preGLM0_ciftiFalse_20180508092640760\n",
      "submitted sCC0027_movie_2_preGLM0_ciftiFalse_20180508092640846\n",
      "submitted sCC0029_movie_1_preGLM0_ciftiFalse_20180508092640955\n",
      "submitted sCC0029_movie_2_preGLM0_ciftiFalse_20180508092641057\n",
      "submitted sCC0033_movie_1_preGLM0_ciftiFalse_20180508092641142\n",
      "submitted sCC0033_movie_2_preGLM0_ciftiFalse_20180508092641239\n",
      "Waiting for 8 jobs to complete...\n",
      "All done!!\n",
      "submitted sCC0041_movie_1_preGLM0_ciftiFalse_20180508092651340\n",
      "submitted sCC0046_movie_1_preGLM0_ciftiFalse_20180508092651403\n",
      "submitted sCC0046_movie_2_preGLM0_ciftiFalse_20180508092651469\n",
      "submitted sCC0063_movie_1_preGLM0_ciftiFalse_20180508092651578\n",
      "submitted sCC0063_movie_2_preGLM0_ciftiFalse_20180508092651628\n",
      "submitted sCC0068_movie_1_preGLM0_ciftiFalse_20180508092651688\n",
      "submitted sCC0068_movie_2_preGLM0_ciftiFalse_20180508092651786\n",
      "submitted sCC0080_movie_1_preGLM0_ciftiFalse_20180508092651921\n",
      "Waiting for 8 jobs to complete...\n",
      "All done!!\n",
      "submitted sCC0080_movie_2_preGLM0_ciftiFalse_20180508092702042\n",
      "submitted sCC0081_movie_1_preGLM0_ciftiFalse_20180508092702143\n",
      "submitted sCC0081_movie_2_preGLM0_ciftiFalse_20180508092702225\n",
      "submitted sCC0085_movie_1_preGLM0_ciftiFalse_20180508092702398\n",
      "submitted sCC0085_movie_2_preGLM0_ciftiFalse_20180508092702541\n",
      "submitted sCC0104_movie_1_preGLM0_ciftiFalse_20180508092702645\n",
      "submitted sCC0104_movie_2_preGLM0_ciftiFalse_20180508092702748\n",
      "submitted sCC0106_movie_1_preGLM0_ciftiFalse_20180508092702911\n",
      "Waiting for 8 jobs to complete...\n",
      "All done!!\n",
      "submitted sCC0106_movie_2_preGLM0_ciftiFalse_20180508092713051\n",
      "submitted sCC0108_movie_1_preGLM0_ciftiFalse_20180508092713185\n",
      "submitted sCC0108_movie_2_preGLM0_ciftiFalse_20180508092713374\n",
      "submitted sCC0111_movie_1_preGLM0_ciftiFalse_20180508092713532\n",
      "submitted sCC0111_movie_2_preGLM0_ciftiFalse_20180508092713616\n",
      "submitted sCC0114_movie_1_preGLM0_ciftiFalse_20180508092713710\n",
      "submitted sCC0114_movie_2_preGLM0_ciftiFalse_20180508092713845\n",
      "submitted sCC0117_movie_1_preGLM0_ciftiFalse_20180508092713980\n",
      "Waiting for 8 jobs to complete...\n",
      "All done!!\n",
      "submitted sCC0117_movie_2_preGLM0_ciftiFalse_20180508092724143\n",
      "Waiting for 1 jobs to complete...\n",
      "All done!!\n",
      "CC0003 -- movie_1 -- OK\n",
      "CC0003 -- movie_2 -- OK\n",
      "CC0006 -- movie_1 -- OK\n",
      "CC0006 -- movie_2 -- OK\n",
      "CC0007 -- movie_1 -- OK\n",
      "CC0007 -- movie_2 -- OK\n",
      "CC0008 -- movie_1 -- OK\n",
      "CC0008 -- movie_2 -- OK\n",
      "CC0012 -- movie_1 -- OK\n",
      "CC0012 -- movie_2 -- OK\n",
      "CC0027 -- movie_1 -- OK\n",
      "CC0027 -- movie_2 -- OK\n",
      "CC0029 -- movie_1 -- OK\n",
      "CC0029 -- movie_2 -- OK\n",
      "CC0033 -- movie_1 -- OK\n",
      "CC0033 -- movie_2 -- OK\n",
      "CC0041 -- movie_1 -- OK\n",
      "CC0046 -- movie_1 -- OK\n",
      "CC0046 -- movie_2 -- OK\n",
      "CC0063 -- movie_1 -- OK\n",
      "CC0063 -- movie_2 -- OK\n",
      "CC0068 -- movie_1 -- OK\n",
      "CC0068 -- movie_2 -- OK\n",
      "CC0080 -- movie_1 -- OK\n",
      "CC0080 -- movie_2 -- OK\n",
      "CC0081 -- movie_1 -- OK\n",
      "CC0081 -- movie_2 -- OK\n",
      "CC0085 -- movie_1 -- OK\n",
      "CC0085 -- movie_2 -- OK\n",
      "CC0104 -- movie_1 -- OK\n",
      "CC0104 -- movie_2 -- OK\n",
      "CC0106 -- movie_1 -- OK\n",
      "CC0106 -- movie_2 -- OK\n",
      "CC0108 -- movie_1 -- OK\n",
      "CC0108 -- movie_2 -- OK\n",
      "CC0111 -- movie_1 -- OK\n",
      "CC0111 -- movie_2 -- OK\n",
      "CC0114 -- movie_1 -- OK\n",
      "CC0114 -- movie_2 -- OK\n",
      "CC0117 -- movie_1 -- OK\n",
      "CC0117 -- movie_2 -- OK\n"
     ]
    }
   ],
   "source": [
    "config.overwrite               = False\n",
    "config.Operations              = config.operationDict[config.pipelineName]\n",
    "\n",
    "if config.pipelineName in ['SiegelA','SiegelB']:\n",
    "    config.useFIX              = True\n",
    "else:\n",
    "    config.useFIX              = False\n",
    "\n",
    "returnhere = os.getcwd()\n",
    "\n",
    "# do the work\n",
    "config.joblist = list()\n",
    "iSub    = 0\n",
    "for subject in subjects:\n",
    "    config.subject = str(subject)\n",
    "    iRun = 0\n",
    "    for config.fmriRun in fmriRuns:\n",
    "        runPipelinePar(launchSubproc=launchSubproc)\n",
    "        iRun=iRun+1\n",
    "        if len(config.joblist)>=8:\n",
    "            # wait until all tasks are done\n",
    "            checkProgress(pause=10,verbose=True)\n",
    "            config.joblist = list()\n",
    "    iSub = iSub + 1\n",
    "\n",
    "if len(config.joblist)>0:\n",
    "    checkProgress(verbose=True) \n",
    "    \n",
    "# make symlinks\n",
    "keepSub = np.zeros((len(subjects),len(fmriRuns)),dtype=np.bool_)\n",
    "iSub    = 0\n",
    "for subject in subjects:\n",
    "    config.subject = str(subject)\n",
    "    iRun = 0\n",
    "    for config.fmriRun in fmriRuns:\n",
    "        keepSub[iSub,iRun] = runPipelinePar(launchSubproc=False)\n",
    "        if keepSub[iSub,iRun]:\n",
    "            os.chdir(op.dirname(buildpath()))\n",
    "            if op.exists(buildpath()+'_'+config.pipelineName):\n",
    "                os.remove(buildpath()+'_'+config.pipelineName)\n",
    "            os.symlink(op.basename(buildpath()),\n",
    "                op.basename(buildpath())+'_'+config.pipelineName)\n",
    "            if op.exists(op.join(buildpath(),config.fmriRun+'_'+config.pipelineName+config.ext)):\n",
    "                os.remove(op.join(buildpath(),config.fmriRun+'_'+config.pipelineName+config.ext))\n",
    "            os.chdir(buildpath())\n",
    "            os.symlink(op.basename(config.fmriFile_dn),\n",
    "                  config.fmriRun+'_'+config.pipelineName+config.ext)\n",
    "            print '{} -- {} -- OK'.format(config.subject,config.fmriRun)\n",
    "            os.chdir(returnhere)\n",
    "        iRun=iRun+1\n",
    "    iSub = iSub + 1"
   ]
  },
  {
   "cell_type": "code",
   "execution_count": null,
   "metadata": {
    "collapsed": true
   },
   "outputs": [],
   "source": []
  }
 ],
 "metadata": {
  "anaconda-cloud": {},
  "kernelspec": {
   "display_name": "Python [conda root]",
   "language": "python",
   "name": "conda-root-py"
  },
  "language_info": {
   "codemirror_mode": {
    "name": "ipython",
    "version": 2
   },
   "file_extension": ".py",
   "mimetype": "text/x-python",
   "name": "python",
   "nbconvert_exporter": "python",
   "pygments_lexer": "ipython2",
   "version": "2.7.14"
  }
 },
 "nbformat": 4,
 "nbformat_minor": 1
}
