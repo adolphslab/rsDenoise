{
 "cells": [
  {
   "cell_type": "markdown",
   "metadata": {},
   "source": [
    "# Load libraries & helper functions"
   ]
  },
  {
   "cell_type": "code",
   "execution_count": null,
   "metadata": {
    "collapsed": false
   },
   "outputs": [],
   "source": [
    "from fmriprepciftify_helpers import *\n",
    "%matplotlib inline"
   ]
  },
  {
   "cell_type": "markdown",
   "metadata": {},
   "source": [
    "# Set parameters"
   ]
  },
  {
   "cell_type": "code",
   "execution_count": 49,
   "metadata": {
    "collapsed": false
   },
   "outputs": [],
   "source": [
    "# config is a global variable used by several functions\n",
    "# Where does the data live?\n",
    "config.DATADIR = '/data2/jdubois2/data/YALE-trt/derivatives'\n",
    "config.sourceDir = os.getcwd() # or replace with path to source code\n",
    "config.outDir             = 'rsDenoise' # where all output of processing will be, in BIDS like format\n",
    "config.FCDir              = 'FC' # where all the time series used to compute FC and final FC matrices will be stored\n",
    "\n",
    "# Which resting-state denoising pipeline should be used?\n",
    "config.pipelineName            = 'A'\n",
    "config.Operations              = config.operationDict[config.pipelineName]\n",
    "\n",
    "# Other options\n",
    "config.isCifti = False\n",
    "config.queue = False\n",
    "config.sgeopts = '-l mem_free=25G -pe openmp 6 -q long.q'\n",
    "config.parcellationName = 'shen2013'\n",
    "config.parcellationFile = '/data/jdubois/data/parcellations/shenetal_neuroimage2013_new/shen_2mm_268_parcellation.nii.gz'\n",
    "config.nParcels = 268\n",
    "config.overwrite = False\n",
    "config.Operations = config.operationDict[config.pipelineName]\n",
    "\n",
    "\n",
    "sessions = ['ses-001TB', 'ses-002TA', 'ses-003TB', 'ses-004TA',\n",
    "            'ses-001TA', 'ses-002TB', 'ses-003TA', 'ses-004TB', ]\n",
    "fmriRuns = ['task-rest_run-01','task-rest_run-02','task-rest_run-03',\n",
    "            'task-rest_run-04','task-rest_run-05','task-rest_run-06']\n",
    "subjects = ['sub-032401', 'sub-032403', 'sub-032405', 'sub-032407', 'sub-032411',\n",
    "            'sub-032402', 'sub-032404', 'sub-032408', 'sub-032410', 'sub-032412']\n",
    "\n",
    "# which file to use for the functional data?\n",
    "#the code #fMRIrun# will be replaced by the appropriate run\n",
    "config.fmriFileTemplate        = '#fMRIrun#_Atlas_MSMAll.dtseries.nii'\n",
    "## do not alter the following lines ##\n",
    "##>>>>>>>>\n",
    "tmp = config.fmriFileTemplate.split('.')\n",
    "if tmp[1]=='nii':\n",
    "    config.isCifti = False\n",
    "elif tmp[1]=='dtseries':\n",
    "    config.isCifti = True\n",
    "else:\n",
    "    print 'unknown file extension'\n",
    "##<<<<<<<<\n",
    "# parcellation for FC matrix\n",
    "config.parcellationName        = 'Glasser' #used for easy reference\n",
    "config.parcellationFile        = '/scratch/duboisjx/data/parcellations/Glasser2016/Parcels.dlabel.nii'\n",
    "config.nParcels                = 360\n",
    "# where are the .csv files with subject scores and info?\n",
    "# unrestricted\n",
    "config.behavFile               = '/scratch/duboisjx/data/HCP/neuropsych/unrestricted_luckydjuju_6_7_2017_0_44_41.csv'\n",
    "# RESTRICTED: needed for age, handedness, family structure,...\n",
    "config.RbehavFile              = '/scratch/duboisjx/data/HCP/neuropsych/RESTRICTED_luckydjuju_8_22_2017_11_13_18.csv'\n",
    "# other naming conventions\n",
    "config.melodicFolder           = op.join('#fMRIrun#_hp2000.ica','filtered_func_data.ica') \n",
    "config.movementRelativeRMSFile = 'Movement_RelativeRMS.txt'\n",
    "config.movementRegressorsFile  = 'Movement_Regressors_dt.txt'\n",
    "# it is advisable to run the analyses on a cluster with sge\n",
    "config.queue        = True\n",
    "parallelEnvironment = 'smp' #'openmp'\n",
    "# output directory\n",
    "outDir              = op.join(config.DATADIR,'Results','INTELLIGENCE',config.pipelineName,config.parcellationName)\n",
    "if not op.isdir(outDir):\n",
    "    makedirs(outDir)\n",
    "    \n",
    "# if working with volumetric data: should the parcels be restricted to the gray matter mask?\n",
    "if not config.isCifti:\n",
    "    config.maskParcelswithGM       = False\n",
    "    if config.maskParcelswithGM:\n",
    "        config.parcellationName = config.parcellationName + '_GM'"
   ]
  },
  {
   "cell_type": "markdown",
   "metadata": {},
   "source": [
    "### MRI processing"
   ]
  },
  {
   "cell_type": "code",
   "execution_count": null,
   "metadata": {
    "collapsed": false
   },
   "outputs": [],
   "source": [
    "for config.subject in subjects:\n",
    "    for config.session in sessions:\n",
    "        for config.fmriRun in fmriRuns:\n",
    "            if runPipelinePar():\n",
    "                computeFC(overwrite=True)"
   ]
  },
  {
   "cell_type": "markdown",
   "metadata": {},
   "source": [
    "### Retrieve FC"
   ]
  },
  {
   "cell_type": "code",
   "execution_count": null,
   "metadata": {
    "collapsed": true
   },
   "outputs": [],
   "source": [
    "## \n",
    "#  @brief Get FC matrices for list of subjects\n",
    "#  \n",
    "#  @param [array-like] subjectList list of subject IDs\n",
    "#  @param [array-like] runs list of runs \n",
    "#  @param [array-like] sessions list of sessions (optional)\n",
    "#  @param [str] parcellation parcellation name - needed if FCDir is None      \n",
    "#  @param [list] operations pipeline operations - needed if FCDir is None\n",
    "#  @param [str] outputDir path to preprocessed data folder (optional, default is outpath())\n",
    "#  @param [bool] isCifti True if preprocessed data is in cifti format\n",
    "#  @param [str] fcMatFile full path to output file (default ./fcMats.mat)\n",
    "#  @param [str] kind type of FC, one of {\"correlation\" (default), \"partial correlation\", \"tangent\", \"covariance\", \"precision\"}\n",
    "#  @param [bool] overwrite True if existing files should be overwritten\n",
    "#  @param [str] FCDir path to folder containing precomputed timeseries x parcels per subject - if None they are retrieved from each subject's folder\n",
    "#  @param [bool] mergeSessions True if time series from different sessions should be merged before computing FC, otherwise FC from each session are averaged\n",
    "#  @param [bool] mergeRuns True if time series from different runs should be merged before computing FC, otherwise FC from each run are averaged (if mergeSessions is True mergeRuns is ignored and everything is concatenated)\n",
    "#  @param [CovarianceEstimator] cov_estimator is None, default sklearn.covariance.LedoitWolf estimator is used\n",
    "\n",
    "results = getAllFC(subjects,fmriRuns,sessions,config.parcellationName,config.Operations,mergeSessions=False,mergeRuns=False, \n",
    "                   FCDir=config.FCDir)"
   ]
  }
 ],
 "metadata": {
  "anaconda-cloud": {},
  "kernelspec": {
   "display_name": "Python [py27]",
   "language": "python",
   "name": "Python [py27]"
  },
  "language_info": {
   "codemirror_mode": {
    "name": "ipython",
    "version": 2
   },
   "file_extension": ".py",
   "mimetype": "text/x-python",
   "name": "python",
   "nbconvert_exporter": "python",
   "pygments_lexer": "ipython2",
   "version": "2.7.13"
  }
 },
 "nbformat": 4,
 "nbformat_minor": 1
}
